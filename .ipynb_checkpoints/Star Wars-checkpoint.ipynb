{
 "cells": [
  {
   "cell_type": "markdown",
   "metadata": {},
   "source": [
    "## READ Star Wars DATA "
   ]
  },
  {
   "cell_type": "code",
   "execution_count": 4,
   "metadata": {},
   "outputs": [
    {
     "name": "stdout",
     "output_type": "stream",
     "text": [
      "   RespondentID Have you seen any of the 6 films in the Star Wars franchise?  \\\n",
      "0           NaN                                           Response             \n",
      "1  3.292880e+09                                                Yes             \n",
      "2  3.292880e+09                                                 No             \n",
      "3  3.292765e+09                                                Yes             \n",
      "4  3.292763e+09                                                Yes             \n",
      "5  3.292731e+09                                                Yes             \n",
      "6  3.292719e+09                                                Yes             \n",
      "7  3.292685e+09                                                Yes             \n",
      "8  3.292664e+09                                                Yes             \n",
      "9  3.292654e+09                                                Yes             \n",
      "\n",
      "  Do you consider yourself to be a fan of the Star Wars film franchise?  \\\n",
      "0                                           Response                      \n",
      "1                                                Yes                      \n",
      "2                                                NaN                      \n",
      "3                                                 No                      \n",
      "4                                                Yes                      \n",
      "5                                                Yes                      \n",
      "6                                                Yes                      \n",
      "7                                                Yes                      \n",
      "8                                                Yes                      \n",
      "9                                                Yes                      \n",
      "\n",
      "  Which of the following Star Wars films have you seen? Please select all that apply.  \\\n",
      "0           Star Wars: Episode I  The Phantom Menace                                    \n",
      "1           Star Wars: Episode I  The Phantom Menace                                    \n",
      "2                                                NaN                                    \n",
      "3           Star Wars: Episode I  The Phantom Menace                                    \n",
      "4           Star Wars: Episode I  The Phantom Menace                                    \n",
      "5           Star Wars: Episode I  The Phantom Menace                                    \n",
      "6           Star Wars: Episode I  The Phantom Menace                                    \n",
      "7           Star Wars: Episode I  The Phantom Menace                                    \n",
      "8           Star Wars: Episode I  The Phantom Menace                                    \n",
      "9           Star Wars: Episode I  The Phantom Menace                                    \n",
      "\n",
      "                                    Unnamed: 4  \\\n",
      "0  Star Wars: Episode II  Attack of the Clones   \n",
      "1  Star Wars: Episode II  Attack of the Clones   \n",
      "2                                          NaN   \n",
      "3  Star Wars: Episode II  Attack of the Clones   \n",
      "4  Star Wars: Episode II  Attack of the Clones   \n",
      "5  Star Wars: Episode II  Attack of the Clones   \n",
      "6  Star Wars: Episode II  Attack of the Clones   \n",
      "7  Star Wars: Episode II  Attack of the Clones   \n",
      "8  Star Wars: Episode II  Attack of the Clones   \n",
      "9  Star Wars: Episode II  Attack of the Clones   \n",
      "\n",
      "                                    Unnamed: 5  \\\n",
      "0  Star Wars: Episode III  Revenge of the Sith   \n",
      "1  Star Wars: Episode III  Revenge of the Sith   \n",
      "2                                          NaN   \n",
      "3  Star Wars: Episode III  Revenge of the Sith   \n",
      "4  Star Wars: Episode III  Revenge of the Sith   \n",
      "5  Star Wars: Episode III  Revenge of the Sith   \n",
      "6  Star Wars: Episode III  Revenge of the Sith   \n",
      "7  Star Wars: Episode III  Revenge of the Sith   \n",
      "8  Star Wars: Episode III  Revenge of the Sith   \n",
      "9  Star Wars: Episode III  Revenge of the Sith   \n",
      "\n",
      "                          Unnamed: 6  \\\n",
      "0  Star Wars: Episode IV  A New Hope   \n",
      "1  Star Wars: Episode IV  A New Hope   \n",
      "2                                NaN   \n",
      "3                                NaN   \n",
      "4  Star Wars: Episode IV  A New Hope   \n",
      "5  Star Wars: Episode IV  A New Hope   \n",
      "6  Star Wars: Episode IV  A New Hope   \n",
      "7  Star Wars: Episode IV  A New Hope   \n",
      "8  Star Wars: Episode IV  A New Hope   \n",
      "9  Star Wars: Episode IV  A New Hope   \n",
      "\n",
      "                                     Unnamed: 7  \\\n",
      "0  Star Wars: Episode V The Empire Strikes Back   \n",
      "1  Star Wars: Episode V The Empire Strikes Back   \n",
      "2                                           NaN   \n",
      "3                                           NaN   \n",
      "4  Star Wars: Episode V The Empire Strikes Back   \n",
      "5  Star Wars: Episode V The Empire Strikes Back   \n",
      "6  Star Wars: Episode V The Empire Strikes Back   \n",
      "7  Star Wars: Episode V The Empire Strikes Back   \n",
      "8  Star Wars: Episode V The Empire Strikes Back   \n",
      "9  Star Wars: Episode V The Empire Strikes Back   \n",
      "\n",
      "                                 Unnamed: 8  \\\n",
      "0  Star Wars: Episode VI Return of the Jedi   \n",
      "1  Star Wars: Episode VI Return of the Jedi   \n",
      "2                                       NaN   \n",
      "3                                       NaN   \n",
      "4  Star Wars: Episode VI Return of the Jedi   \n",
      "5  Star Wars: Episode VI Return of the Jedi   \n",
      "6  Star Wars: Episode VI Return of the Jedi   \n",
      "7  Star Wars: Episode VI Return of the Jedi   \n",
      "8  Star Wars: Episode VI Return of the Jedi   \n",
      "9  Star Wars: Episode VI Return of the Jedi   \n",
      "\n",
      "  Please rank the Star Wars films in order of preference with 1 being your favorite film in the franchise and 6 being your least favorite film.  \\\n",
      "0           Star Wars: Episode I  The Phantom Menace                                                                                              \n",
      "1                                                  3                                                                                              \n",
      "2                                                NaN                                                                                              \n",
      "3                                                  1                                                                                              \n",
      "4                                                  5                                                                                              \n",
      "5                                                  5                                                                                              \n",
      "6                                                  1                                                                                              \n",
      "7                                                  6                                                                                              \n",
      "8                                                  4                                                                                              \n",
      "9                                                  5                                                                                              \n",
      "\n",
      "            ...                    Unnamed: 28  \\\n",
      "0           ...                           Yoda   \n",
      "1           ...                 Very favorably   \n",
      "2           ...                            NaN   \n",
      "3           ...               Unfamiliar (N/A)   \n",
      "4           ...                 Very favorably   \n",
      "5           ...             Somewhat favorably   \n",
      "6           ...                 Very favorably   \n",
      "7           ...                 Very favorably   \n",
      "8           ...                 Very favorably   \n",
      "9           ...             Somewhat favorably   \n",
      "\n",
      "        Which character shot first?  \\\n",
      "0                          Response   \n",
      "1  I don't understand this question   \n",
      "2                               NaN   \n",
      "3  I don't understand this question   \n",
      "4  I don't understand this question   \n",
      "5                            Greedo   \n",
      "6                               Han   \n",
      "7                               Han   \n",
      "8                               Han   \n",
      "9                               Han   \n",
      "\n",
      "  Are you familiar with the Expanded Universe?  \\\n",
      "0                                     Response   \n",
      "1                                          Yes   \n",
      "2                                          NaN   \n",
      "3                                           No   \n",
      "4                                           No   \n",
      "5                                          Yes   \n",
      "6                                          Yes   \n",
      "7                                          Yes   \n",
      "8                                           No   \n",
      "9                                           No   \n",
      "\n",
      "  Do you consider yourself to be a fan of the Expanded Universe?æ  \\\n",
      "0                                           Response                 \n",
      "1                                                 No                 \n",
      "2                                                NaN                 \n",
      "3                                                NaN                 \n",
      "4                                                NaN                 \n",
      "5                                                 No                 \n",
      "6                                                 No                 \n",
      "7                                                 No                 \n",
      "8                                                NaN                 \n",
      "9                                                NaN                 \n",
      "\n",
      "  Do you consider yourself to be a fan of the Star Trek franchise?    Gender  \\\n",
      "0                                           Response                Response   \n",
      "1                                                 No                    Male   \n",
      "2                                                Yes                    Male   \n",
      "3                                                 No                    Male   \n",
      "4                                                Yes                    Male   \n",
      "5                                                 No                    Male   \n",
      "6                                                Yes                    Male   \n",
      "7                                                 No                    Male   \n",
      "8                                                Yes                    Male   \n",
      "9                                                 No                    Male   \n",
      "\n",
      "        Age     Household Income                         Education  \\\n",
      "0  Response             Response                          Response   \n",
      "1     18-29                  NaN                High school degree   \n",
      "2     18-29         $0 - $24,999                   Bachelor degree   \n",
      "3     18-29         $0 - $24,999                High school degree   \n",
      "4     18-29  $100,000 - $149,999  Some college or Associate degree   \n",
      "5     18-29  $100,000 - $149,999  Some college or Associate degree   \n",
      "6     18-29    $25,000 - $49,999                   Bachelor degree   \n",
      "7     18-29                  NaN                High school degree   \n",
      "8     18-29                  NaN                High school degree   \n",
      "9     18-29         $0 - $24,999  Some college or Associate degree   \n",
      "\n",
      "  Location (Census Region)  \n",
      "0                 Response  \n",
      "1           South Atlantic  \n",
      "2       West South Central  \n",
      "3       West North Central  \n",
      "4       West North Central  \n",
      "5       West North Central  \n",
      "6          Middle Atlantic  \n",
      "7       East North Central  \n",
      "8           South Atlantic  \n",
      "9           South Atlantic  \n",
      "\n",
      "[10 rows x 38 columns]\n"
     ]
    }
   ],
   "source": [
    "import pandas as pd\n",
    "star_wars = pd.read_csv(\"StarWars.csv\", encoding=\"ISO-8859-1\") #there are characters utf-8 cant read. we need diffrernt encodings\n",
    "print(star_wars.head(10))"
   ]
  },
  {
   "cell_type": "markdown",
   "metadata": {},
   "source": [
    "### LİST OF COLUMNS"
   ]
  },
  {
   "cell_type": "code",
   "execution_count": 5,
   "metadata": {},
   "outputs": [
    {
     "name": "stdout",
     "output_type": "stream",
     "text": [
      "Index(['RespondentID',\n",
      "       'Have you seen any of the 6 films in the Star Wars franchise?',\n",
      "       'Do you consider yourself to be a fan of the Star Wars film franchise?',\n",
      "       'Which of the following Star Wars films have you seen? Please select all that apply.',\n",
      "       'Unnamed: 4', 'Unnamed: 5', 'Unnamed: 6', 'Unnamed: 7', 'Unnamed: 8',\n",
      "       'Please rank the Star Wars films in order of preference with 1 being your favorite film in the franchise and 6 being your least favorite film.',\n",
      "       'Unnamed: 10', 'Unnamed: 11', 'Unnamed: 12', 'Unnamed: 13',\n",
      "       'Unnamed: 14',\n",
      "       'Please state whether you view the following characters favorably, unfavorably, or are unfamiliar with him/her.',\n",
      "       'Unnamed: 16', 'Unnamed: 17', 'Unnamed: 18', 'Unnamed: 19',\n",
      "       'Unnamed: 20', 'Unnamed: 21', 'Unnamed: 22', 'Unnamed: 23',\n",
      "       'Unnamed: 24', 'Unnamed: 25', 'Unnamed: 26', 'Unnamed: 27',\n",
      "       'Unnamed: 28', 'Which character shot first?',\n",
      "       'Are you familiar with the Expanded Universe?',\n",
      "       'Do you consider yourself to be a fan of the Expanded Universe?æ',\n",
      "       'Do you consider yourself to be a fan of the Star Trek franchise?',\n",
      "       'Gender', 'Age', 'Household Income', 'Education',\n",
      "       'Location (Census Region)'],\n",
      "      dtype='object')\n"
     ]
    }
   ],
   "source": [
    "print(star_wars.columns)"
   ]
  },
  {
   "cell_type": "markdown",
   "metadata": {},
   "source": [
    "### Remove the rows where RespondentID is NaN"
   ]
  },
  {
   "cell_type": "code",
   "execution_count": 6,
   "metadata": {},
   "outputs": [
    {
     "name": "stdout",
     "output_type": "stream",
     "text": [
      "    RespondentID Have you seen any of the 6 films in the Star Wars franchise?  \\\n",
      "1   3.292880e+09                                                Yes             \n",
      "2   3.292880e+09                                                 No             \n",
      "3   3.292765e+09                                                Yes             \n",
      "4   3.292763e+09                                                Yes             \n",
      "5   3.292731e+09                                                Yes             \n",
      "6   3.292719e+09                                                Yes             \n",
      "7   3.292685e+09                                                Yes             \n",
      "8   3.292664e+09                                                Yes             \n",
      "9   3.292654e+09                                                Yes             \n",
      "10  3.292640e+09                                                Yes             \n",
      "\n",
      "   Do you consider yourself to be a fan of the Star Wars film franchise?  \\\n",
      "1                                                 Yes                      \n",
      "2                                                 NaN                      \n",
      "3                                                  No                      \n",
      "4                                                 Yes                      \n",
      "5                                                 Yes                      \n",
      "6                                                 Yes                      \n",
      "7                                                 Yes                      \n",
      "8                                                 Yes                      \n",
      "9                                                 Yes                      \n",
      "10                                                 No                      \n",
      "\n",
      "   Which of the following Star Wars films have you seen? Please select all that apply.  \\\n",
      "1            Star Wars: Episode I  The Phantom Menace                                    \n",
      "2                                                 NaN                                    \n",
      "3            Star Wars: Episode I  The Phantom Menace                                    \n",
      "4            Star Wars: Episode I  The Phantom Menace                                    \n",
      "5            Star Wars: Episode I  The Phantom Menace                                    \n",
      "6            Star Wars: Episode I  The Phantom Menace                                    \n",
      "7            Star Wars: Episode I  The Phantom Menace                                    \n",
      "8            Star Wars: Episode I  The Phantom Menace                                    \n",
      "9            Star Wars: Episode I  The Phantom Menace                                    \n",
      "10                                                NaN                                    \n",
      "\n",
      "                                     Unnamed: 4  \\\n",
      "1   Star Wars: Episode II  Attack of the Clones   \n",
      "2                                           NaN   \n",
      "3   Star Wars: Episode II  Attack of the Clones   \n",
      "4   Star Wars: Episode II  Attack of the Clones   \n",
      "5   Star Wars: Episode II  Attack of the Clones   \n",
      "6   Star Wars: Episode II  Attack of the Clones   \n",
      "7   Star Wars: Episode II  Attack of the Clones   \n",
      "8   Star Wars: Episode II  Attack of the Clones   \n",
      "9   Star Wars: Episode II  Attack of the Clones   \n",
      "10  Star Wars: Episode II  Attack of the Clones   \n",
      "\n",
      "                                     Unnamed: 5  \\\n",
      "1   Star Wars: Episode III  Revenge of the Sith   \n",
      "2                                           NaN   \n",
      "3   Star Wars: Episode III  Revenge of the Sith   \n",
      "4   Star Wars: Episode III  Revenge of the Sith   \n",
      "5   Star Wars: Episode III  Revenge of the Sith   \n",
      "6   Star Wars: Episode III  Revenge of the Sith   \n",
      "7   Star Wars: Episode III  Revenge of the Sith   \n",
      "8   Star Wars: Episode III  Revenge of the Sith   \n",
      "9   Star Wars: Episode III  Revenge of the Sith   \n",
      "10                                          NaN   \n",
      "\n",
      "                           Unnamed: 6  \\\n",
      "1   Star Wars: Episode IV  A New Hope   \n",
      "2                                 NaN   \n",
      "3                                 NaN   \n",
      "4   Star Wars: Episode IV  A New Hope   \n",
      "5   Star Wars: Episode IV  A New Hope   \n",
      "6   Star Wars: Episode IV  A New Hope   \n",
      "7   Star Wars: Episode IV  A New Hope   \n",
      "8   Star Wars: Episode IV  A New Hope   \n",
      "9   Star Wars: Episode IV  A New Hope   \n",
      "10                                NaN   \n",
      "\n",
      "                                      Unnamed: 7  \\\n",
      "1   Star Wars: Episode V The Empire Strikes Back   \n",
      "2                                            NaN   \n",
      "3                                            NaN   \n",
      "4   Star Wars: Episode V The Empire Strikes Back   \n",
      "5   Star Wars: Episode V The Empire Strikes Back   \n",
      "6   Star Wars: Episode V The Empire Strikes Back   \n",
      "7   Star Wars: Episode V The Empire Strikes Back   \n",
      "8   Star Wars: Episode V The Empire Strikes Back   \n",
      "9   Star Wars: Episode V The Empire Strikes Back   \n",
      "10                                           NaN   \n",
      "\n",
      "                                  Unnamed: 8  \\\n",
      "1   Star Wars: Episode VI Return of the Jedi   \n",
      "2                                        NaN   \n",
      "3                                        NaN   \n",
      "4   Star Wars: Episode VI Return of the Jedi   \n",
      "5   Star Wars: Episode VI Return of the Jedi   \n",
      "6   Star Wars: Episode VI Return of the Jedi   \n",
      "7   Star Wars: Episode VI Return of the Jedi   \n",
      "8   Star Wars: Episode VI Return of the Jedi   \n",
      "9   Star Wars: Episode VI Return of the Jedi   \n",
      "10                                       NaN   \n",
      "\n",
      "   Please rank the Star Wars films in order of preference with 1 being your favorite film in the franchise and 6 being your least favorite film.  \\\n",
      "1                                                   3                                                                                              \n",
      "2                                                 NaN                                                                                              \n",
      "3                                                   1                                                                                              \n",
      "4                                                   5                                                                                              \n",
      "5                                                   5                                                                                              \n",
      "6                                                   1                                                                                              \n",
      "7                                                   6                                                                                              \n",
      "8                                                   4                                                                                              \n",
      "9                                                   5                                                                                              \n",
      "10                                                  1                                                                                              \n",
      "\n",
      "             ...                    Unnamed: 28  \\\n",
      "1            ...                 Very favorably   \n",
      "2            ...                            NaN   \n",
      "3            ...               Unfamiliar (N/A)   \n",
      "4            ...                 Very favorably   \n",
      "5            ...             Somewhat favorably   \n",
      "6            ...                 Very favorably   \n",
      "7            ...                 Very favorably   \n",
      "8            ...                 Very favorably   \n",
      "9            ...             Somewhat favorably   \n",
      "10           ...                 Very favorably   \n",
      "\n",
      "         Which character shot first?  \\\n",
      "1   I don't understand this question   \n",
      "2                                NaN   \n",
      "3   I don't understand this question   \n",
      "4   I don't understand this question   \n",
      "5                             Greedo   \n",
      "6                                Han   \n",
      "7                                Han   \n",
      "8                                Han   \n",
      "9                                Han   \n",
      "10  I don't understand this question   \n",
      "\n",
      "   Are you familiar with the Expanded Universe?  \\\n",
      "1                                           Yes   \n",
      "2                                           NaN   \n",
      "3                                            No   \n",
      "4                                            No   \n",
      "5                                           Yes   \n",
      "6                                           Yes   \n",
      "7                                           Yes   \n",
      "8                                            No   \n",
      "9                                            No   \n",
      "10                                           No   \n",
      "\n",
      "   Do you consider yourself to be a fan of the Expanded Universe?æ  \\\n",
      "1                                                  No                 \n",
      "2                                                 NaN                 \n",
      "3                                                 NaN                 \n",
      "4                                                 NaN                 \n",
      "5                                                  No                 \n",
      "6                                                  No                 \n",
      "7                                                  No                 \n",
      "8                                                 NaN                 \n",
      "9                                                 NaN                 \n",
      "10                                                NaN                 \n",
      "\n",
      "   Do you consider yourself to be a fan of the Star Trek franchise? Gender  \\\n",
      "1                                                  No                 Male   \n",
      "2                                                 Yes                 Male   \n",
      "3                                                  No                 Male   \n",
      "4                                                 Yes                 Male   \n",
      "5                                                  No                 Male   \n",
      "6                                                 Yes                 Male   \n",
      "7                                                  No                 Male   \n",
      "8                                                 Yes                 Male   \n",
      "9                                                  No                 Male   \n",
      "10                                                 No                 Male   \n",
      "\n",
      "      Age     Household Income                         Education  \\\n",
      "1   18-29                  NaN                High school degree   \n",
      "2   18-29         $0 - $24,999                   Bachelor degree   \n",
      "3   18-29         $0 - $24,999                High school degree   \n",
      "4   18-29  $100,000 - $149,999  Some college or Associate degree   \n",
      "5   18-29  $100,000 - $149,999  Some college or Associate degree   \n",
      "6   18-29    $25,000 - $49,999                   Bachelor degree   \n",
      "7   18-29                  NaN                High school degree   \n",
      "8   18-29                  NaN                High school degree   \n",
      "9   18-29         $0 - $24,999  Some college or Associate degree   \n",
      "10  18-29    $25,000 - $49,999  Some college or Associate degree   \n",
      "\n",
      "   Location (Census Region)  \n",
      "1            South Atlantic  \n",
      "2        West South Central  \n",
      "3        West North Central  \n",
      "4        West North Central  \n",
      "5        West North Central  \n",
      "6           Middle Atlantic  \n",
      "7        East North Central  \n",
      "8            South Atlantic  \n",
      "9            South Atlantic  \n",
      "10                  Pacific  \n",
      "\n",
      "[10 rows x 38 columns]\n"
     ]
    }
   ],
   "source": [
    "star_wars = star_wars[pd.notnull(star_wars[\"RespondentID\"])]\n",
    "print(star_wars.head(10))"
   ]
  },
  {
   "cell_type": "markdown",
   "metadata": {},
   "source": [
    "#### Convert column with boolean type"
   ]
  },
  {
   "cell_type": "code",
   "execution_count": 7,
   "metadata": {},
   "outputs": [
    {
     "name": "stdout",
     "output_type": "stream",
     "text": [
      "1      True\n",
      "2     False\n",
      "3      True\n",
      "4      True\n",
      "5      True\n",
      "6      True\n",
      "7      True\n",
      "8      True\n",
      "9      True\n",
      "10     True\n",
      "Name: Have you seen any of the 6 films in the Star Wars franchise?, dtype: bool\n"
     ]
    }
   ],
   "source": [
    "yes_no = {\n",
    "    \"Yes\": True,\n",
    "    \"No\": False\n",
    "}\n",
    "star_wars[\"Have you seen any of the 6 films in the Star Wars franchise?\"] = star_wars[\"Have you seen any of the 6 films in the Star Wars franchise?\"].map(yes_no)\n",
    "print(star_wars[\"Have you seen any of the 6 films in the Star Wars franchise?\"][0:10])"
   ]
  },
  {
   "cell_type": "markdown",
   "metadata": {},
   "source": [
    "#### Convert column with boolean type"
   ]
  },
  {
   "cell_type": "code",
   "execution_count": 8,
   "metadata": {},
   "outputs": [
    {
     "name": "stdout",
     "output_type": "stream",
     "text": [
      "1      True\n",
      "2       NaN\n",
      "3     False\n",
      "4      True\n",
      "5      True\n",
      "6      True\n",
      "7      True\n",
      "8      True\n",
      "9      True\n",
      "10    False\n",
      "Name: Do you consider yourself to be a fan of the Star Wars film franchise?, dtype: object\n"
     ]
    }
   ],
   "source": [
    "star_wars[\"Do you consider yourself to be a fan of the Star Wars film franchise?\"] = star_wars[\"Do you consider yourself to be a fan of the Star Wars film franchise?\"].map(yes_no)\n",
    "print(star_wars[\"Do you consider yourself to be a fan of the Star Wars film franchise?\"][0:10])"
   ]
  },
  {
   "cell_type": "markdown",
   "metadata": {},
   "source": [
    "Both columns contains Yes , No or Nan values"
   ]
  },
  {
   "cell_type": "markdown",
   "metadata": {},
   "source": [
    "#### Rename names of columns to identify simply"
   ]
  },
  {
   "cell_type": "code",
   "execution_count": 9,
   "metadata": {},
   "outputs": [
    {
     "name": "stdout",
     "output_type": "stream",
     "text": [
      "Index(['RespondentID',\n",
      "       'Have you seen any of the 6 films in the Star Wars franchise?',\n",
      "       'Do you consider yourself to be a fan of the Star Wars film franchise?',\n",
      "       'seen_1', 'seen_2', 'seen_3', 'seen_4', 'seen_5', 'seen_6',\n",
      "       'Please rank the Star Wars films in order of preference with 1 being your favorite film in the franchise and 6 being your least favorite film.',\n",
      "       'Unnamed: 10', 'Unnamed: 11', 'Unnamed: 12', 'Unnamed: 13',\n",
      "       'Unnamed: 14',\n",
      "       'Please state whether you view the following characters favorably, unfavorably, or are unfamiliar with him/her.',\n",
      "       'Unnamed: 16', 'Unnamed: 17', 'Unnamed: 18', 'Unnamed: 19',\n",
      "       'Unnamed: 20', 'Unnamed: 21', 'Unnamed: 22', 'Unnamed: 23',\n",
      "       'Unnamed: 24', 'Unnamed: 25', 'Unnamed: 26', 'Unnamed: 27',\n",
      "       'Unnamed: 28', 'Which character shot first?',\n",
      "       'Are you familiar with the Expanded Universe?',\n",
      "       'Do you consider yourself to be a fan of the Expanded Universe?æ',\n",
      "       'Do you consider yourself to be a fan of the Star Trek franchise?',\n",
      "       'Gender', 'Age', 'Household Income', 'Education',\n",
      "       'Location (Census Region)'],\n",
      "      dtype='object')\n"
     ]
    }
   ],
   "source": [
    "star_wars = star_wars.rename(columns={\"Which of the following Star Wars films have you seen? Please select all that apply.\": \"seen_1\",\"Unnamed: 4\":\"seen_2\",\"Unnamed: 5\":\"seen_3\",\"Unnamed: 6\":\"seen_4\",\"Unnamed: 7\":\"seen_5\",\"Unnamed: 8\":\"seen_6\"})\n",
    "print(star_wars.columns)"
   ]
  },
  {
   "cell_type": "markdown",
   "metadata": {},
   "source": [
    "\"seen_1\" is Star Wars: Episode I The Phantom Menace and so on."
   ]
  },
  {
   "cell_type": "markdown",
   "metadata": {},
   "source": [
    "#### Convert column with boolean type\n",
    "If row is name of movie, it means person watched movie."
   ]
  },
  {
   "cell_type": "code",
   "execution_count": 13,
   "metadata": {},
   "outputs": [
    {
     "name": "stdout",
     "output_type": "stream",
     "text": [
      "1        True\n",
      "2       False\n",
      "3        True\n",
      "4        True\n",
      "5        True\n",
      "6        True\n",
      "7        True\n",
      "8        True\n",
      "9        True\n",
      "10      False\n",
      "11      False\n",
      "12      False\n",
      "13       True\n",
      "14       True\n",
      "15       True\n",
      "16       True\n",
      "17      False\n",
      "18       True\n",
      "19       True\n",
      "20       True\n",
      "21       True\n",
      "22       True\n",
      "23       True\n",
      "24       True\n",
      "25       True\n",
      "26      False\n",
      "27       True\n",
      "28       True\n",
      "29       True\n",
      "30       True\n",
      "        ...  \n",
      "1157     True\n",
      "1158    False\n",
      "1159    False\n",
      "1160    False\n",
      "1161     True\n",
      "1162     True\n",
      "1163     True\n",
      "1164    False\n",
      "1165     True\n",
      "1166     True\n",
      "1167     True\n",
      "1168     True\n",
      "1169    False\n",
      "1170     True\n",
      "1171    False\n",
      "1172     True\n",
      "1173    False\n",
      "1174     True\n",
      "1175     True\n",
      "1176     True\n",
      "1177     True\n",
      "1178     True\n",
      "1179    False\n",
      "1180    False\n",
      "1181     True\n",
      "1182     True\n",
      "1183     True\n",
      "1184    False\n",
      "1185     True\n",
      "1186     True\n",
      "Name: seen_1, Length: 1186, dtype: bool\n"
     ]
    }
   ],
   "source": [
    "def seen1(movie):\n",
    "    if movie == \"Star Wars: Episode I  The Phantom Menace\":\n",
    "        return True\n",
    "    else:\n",
    "        return False\n",
    "star_wars[\"seen_1\"] = star_wars[\"seen_1\"].map(seen1)\n",
    "print(star_wars[\"seen_1\"])"
   ]
  },
  {
   "cell_type": "code",
   "execution_count": 14,
   "metadata": {},
   "outputs": [
    {
     "name": "stdout",
     "output_type": "stream",
     "text": [
      "1      True\n",
      "2     False\n",
      "3      True\n",
      "4      True\n",
      "5      True\n",
      "6      True\n",
      "7      True\n",
      "8      True\n",
      "9      True\n",
      "10     True\n",
      "Name: seen_2, dtype: bool\n"
     ]
    }
   ],
   "source": [
    "def seen2(movie):\n",
    "    if movie == \"Star Wars: Episode II  Attack of the Clones\":\n",
    "        return True\n",
    "    else:\n",
    "        return False\n",
    "star_wars[\"seen_2\"] = star_wars[\"seen_2\"].map(seen2)\n",
    "print(star_wars[\"seen_2\"][0:10])"
   ]
  },
  {
   "cell_type": "code",
   "execution_count": 15,
   "metadata": {},
   "outputs": [
    {
     "name": "stdout",
     "output_type": "stream",
     "text": [
      "1      True\n",
      "2     False\n",
      "3      True\n",
      "4      True\n",
      "5      True\n",
      "6      True\n",
      "7      True\n",
      "8      True\n",
      "9      True\n",
      "10    False\n",
      "Name: seen_3, dtype: bool\n"
     ]
    }
   ],
   "source": [
    "def seen3(movie):\n",
    "    if movie == \"Star Wars: Episode III  Revenge of the Sith\":\n",
    "        return True\n",
    "    else:\n",
    "        return False\n",
    "star_wars[\"seen_3\"] = star_wars[\"seen_3\"].map(seen3)\n",
    "print(star_wars[\"seen_3\"][0:10])"
   ]
  },
  {
   "cell_type": "code",
   "execution_count": 16,
   "metadata": {},
   "outputs": [
    {
     "name": "stdout",
     "output_type": "stream",
     "text": [
      "1      True\n",
      "2     False\n",
      "3     False\n",
      "4      True\n",
      "5      True\n",
      "6      True\n",
      "7      True\n",
      "8      True\n",
      "9      True\n",
      "10    False\n",
      "Name: seen_4, dtype: bool\n"
     ]
    }
   ],
   "source": [
    "def seen4(movie):\n",
    "    if movie == \"Star Wars: Episode IV  A New Hope\":\n",
    "        return True\n",
    "    else:\n",
    "        return False\n",
    "star_wars[\"seen_4\"] = star_wars[\"seen_4\"].map(seen4)\n",
    "print(star_wars[\"seen_4\"][0:10])"
   ]
  },
  {
   "cell_type": "code",
   "execution_count": 17,
   "metadata": {},
   "outputs": [
    {
     "name": "stdout",
     "output_type": "stream",
     "text": [
      "1      True\n",
      "2     False\n",
      "3     False\n",
      "4      True\n",
      "5      True\n",
      "6      True\n",
      "7      True\n",
      "8      True\n",
      "9      True\n",
      "10    False\n",
      "Name: seen_5, dtype: bool\n"
     ]
    }
   ],
   "source": [
    "def seen5(movie):\n",
    "    if movie == \"Star Wars: Episode V The Empire Strikes Back\":\n",
    "        return True\n",
    "    else:\n",
    "        return False\n",
    "star_wars[\"seen_5\"] = star_wars[\"seen_5\"].map(seen5)\n",
    "print(star_wars[\"seen_5\"][0:10])"
   ]
  },
  {
   "cell_type": "code",
   "execution_count": 18,
   "metadata": {},
   "outputs": [
    {
     "name": "stdout",
     "output_type": "stream",
     "text": [
      "1      True\n",
      "2     False\n",
      "3     False\n",
      "4      True\n",
      "5      True\n",
      "6      True\n",
      "7      True\n",
      "8      True\n",
      "9      True\n",
      "10    False\n",
      "Name: seen_6, dtype: bool\n"
     ]
    }
   ],
   "source": [
    "def seen6(movie):\n",
    "    if movie == \"Star Wars: Episode VI Return of the Jedi\":\n",
    "        return True\n",
    "    else:\n",
    "        return False\n",
    "star_wars[\"seen_6\"] = star_wars[\"seen_6\"].map(seen6)\n",
    "print(star_wars[\"seen_6\"][0:10])"
   ]
  },
  {
   "cell_type": "markdown",
   "metadata": {},
   "source": [
    "### Convert ranking columns to float(numeric)\n",
    "This columns represents personal rankings from 1 to 6. 1 is most and 6 is least. "
   ]
  },
  {
   "cell_type": "code",
   "execution_count": 19,
   "metadata": {
    "collapsed": true
   },
   "outputs": [],
   "source": [
    "star_wars[star_wars.columns[9:15]] = star_wars[star_wars.columns[9:15]].astype(float)\n"
   ]
  },
  {
   "cell_type": "markdown",
   "metadata": {},
   "source": [
    "#### Rename ranking columns to identify which movie has which column simply"
   ]
  },
  {
   "cell_type": "code",
   "execution_count": 20,
   "metadata": {},
   "outputs": [
    {
     "name": "stdout",
     "output_type": "stream",
     "text": [
      "Index(['RespondentID',\n",
      "       'Have you seen any of the 6 films in the Star Wars franchise?',\n",
      "       'Do you consider yourself to be a fan of the Star Wars film franchise?',\n",
      "       'seen_1', 'seen_2', 'seen_3', 'seen_4', 'seen_5', 'seen_6', 'ranking_1',\n",
      "       'ranking_2', 'ranking_3', 'ranking_4', 'ranking_5', 'ranking_6',\n",
      "       'Please state whether you view the following characters favorably, unfavorably, or are unfamiliar with him/her.',\n",
      "       'Unnamed: 16', 'Unnamed: 17', 'Unnamed: 18', 'Unnamed: 19',\n",
      "       'Unnamed: 20', 'Unnamed: 21', 'Unnamed: 22', 'Unnamed: 23',\n",
      "       'Unnamed: 24', 'Unnamed: 25', 'Unnamed: 26', 'Unnamed: 27',\n",
      "       'Unnamed: 28', 'Which character shot first?',\n",
      "       'Are you familiar with the Expanded Universe?',\n",
      "       'Do you consider yourself to be a fan of the Expanded Universe?æ',\n",
      "       'Do you consider yourself to be a fan of the Star Trek franchise?',\n",
      "       'Gender', 'Age', 'Household Income', 'Education',\n",
      "       'Location (Census Region)'],\n",
      "      dtype='object')\n"
     ]
    }
   ],
   "source": [
    "star_wars = star_wars.rename(columns = {'Please rank the Star Wars films in order of preference with 1 being your favorite film in the franchise and 6 being your least favorite film.':\"ranking_1\",\"Unnamed: 10\":\"ranking_2\",\"Unnamed: 11\":\"ranking_3\",\"Unnamed: 12\":\"ranking_4\",\"Unnamed: 13\":\"ranking_5\",\"Unnamed: 14\":\"ranking_6\"})\n",
    "print(star_wars.columns)"
   ]
  },
  {
   "cell_type": "markdown",
   "metadata": {},
   "source": [
    "### Mean of each ranking column "
   ]
  },
  {
   "cell_type": "code",
   "execution_count": 25,
   "metadata": {},
   "outputs": [
    {
     "data": {
      "image/png": "[encoded data removed]",
      "text/plain": [
       "<matplotlib.figure.Figure at 0x75e03fbe80>"
      ]
     },
     "metadata": {},
     "output_type": "display_data"
    }
   ],
   "source": [
    "import matplotlib.pyplot as plt\n",
    "%matplotlib inline\n",
    "star_wars.mean()[9:15].plot.bar()\n",
    "plt.show()"
   ]
  },
  {
   "cell_type": "markdown",
   "metadata": {},
   "source": [
    "Bar plot shows us best star wars movie is Star Wars: Episode V The Empire Strikes Back.We were expecting this already.And old movies ranked higher than new technology movies.as you see least ranked movie is recent one. Maybe people likes deep story more than high technology and cgi"
   ]
  },
  {
   "cell_type": "markdown",
   "metadata": {},
   "source": [
    "### Sum of each seen column"
   ]
  },
  {
   "cell_type": "code",
   "execution_count": 26,
   "metadata": {},
   "outputs": [
    {
     "data": {
      "image/png": "[encoded data removed]",
      "text/plain": [
       "<matplotlib.figure.Figure at 0x75e069f278>"
      ]
     },
     "metadata": {},
     "output_type": "display_data"
    }
   ],
   "source": [
    "star_wars.sum()[3:9].plot.bar()\n",
    "plt.show()"
   ]
  },
  {
   "cell_type": "markdown",
   "metadata": {},
   "source": [
    "We are looking to a bar plo shows how many people watched each movie in survey.it is in same way with last plot.oldest movies known more and newest movies watched less"
   ]
  },
  {
   "cell_type": "markdown",
   "metadata": {},
   "source": [
    "### male number of each movie"
   ]
  },
  {
   "cell_type": "code",
   "execution_count": 27,
   "metadata": {},
   "outputs": [
    {
     "data": {
      "image/png": "[encoded data removed]",
      "text/plain": [
       "<matplotlib.figure.Figure at 0x75e0604d68>"
      ]
     },
     "metadata": {},
     "output_type": "display_data"
    }
   ],
   "source": [
    "males = star_wars[star_wars[\"Gender\"] == \"Male\"]\n",
    "females = star_wars[star_wars[\"Gender\"] == \"Female\"]\n",
    "males.sum()[3:9].plot.bar()\n",
    "plt.show()\n"
   ]
  },
  {
   "cell_type": "markdown",
   "metadata": {},
   "source": [
    "### female number of each movie "
   ]
  },
  {
   "cell_type": "code",
   "execution_count": 28,
   "metadata": {},
   "outputs": [
    {
     "data": {
      "image/png": "[encoded data removed]",
      "text/plain": [
       "<matplotlib.figure.Figure at 0x75e05e7898>"
      ]
     },
     "metadata": {},
     "output_type": "display_data"
    }
   ],
   "source": [
    "females.sum()[3:9].plot.bar()\n",
    "plt.show()"
   ]
  },
  {
   "cell_type": "markdown",
   "metadata": {},
   "source": [
    "Males are watching star wars more than females but both has same correlation of ranking and movie"
   ]
  },
  {
   "cell_type": "code",
   "execution_count": null,
   "metadata": {},
   "outputs": [],
   "source": []
  },
  {
   "cell_type": "code",
   "execution_count": null,
   "metadata": {},
   "outputs": [],
   "source": []
  },
  {
   "cell_type": "code",
   "execution_count": null,
   "metadata": {
    "collapsed": true
   },
   "outputs": [],
   "source": []
  }
 ],
 "metadata": {
  "kernelspec": {
   "display_name": "Python 3",
   "language": "python",
   "name": "python3"
  },
  "language_info": {
   "codemirror_mode": {
    "name": "ipython",
    "version": 3
   },
   "file_extension": ".py",
   "mimetype": "text/x-python",
   "name": "python",
   "nbconvert_exporter": "python",
   "pygments_lexer": "ipython3",
   "version": "3.6.2"
  }
 },
 "nbformat": 4,
 "nbformat_minor": 2
}
